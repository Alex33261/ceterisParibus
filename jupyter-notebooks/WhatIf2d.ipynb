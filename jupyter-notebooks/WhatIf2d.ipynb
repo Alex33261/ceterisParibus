{
 "cells": [
  {
   "cell_type": "markdown",
   "metadata": {},
   "source": [
    "## Introduction\n",
    "\n",
    "Here we present 2D What If plots.\n",
    "\n",
    "First, an example for regression model."
   ]
  },
  {
   "cell_type": "code",
   "execution_count": 4,
   "metadata": {},
   "outputs": [
    {
     "data": {
      "text/html": [
       "<table>\n",
       "<thead><tr><th></th><th scope=col>m2.price</th><th scope=col>construction.year</th><th scope=col>surface</th><th scope=col>floor</th><th scope=col>no.rooms</th><th scope=col>district</th></tr></thead>\n",
       "<tbody>\n",
       "\t<tr><th scope=row>1001</th><td>4644       </td><td>1976       </td><td>131        </td><td>3          </td><td>5          </td><td>Srodmiescie</td></tr>\n",
       "</tbody>\n",
       "</table>\n"
      ],
      "text/latex": [
       "\\begin{tabular}{r|llllll}\n",
       "  & m2.price & construction.year & surface & floor & no.rooms & district\\\\\n",
       "\\hline\n",
       "\t1001 & 4644        & 1976        & 131         & 3           & 5           & Srodmiescie\\\\\n",
       "\\end{tabular}\n"
      ],
      "text/markdown": [
       "\n",
       "| <!--/--> | m2.price | construction.year | surface | floor | no.rooms | district | \n",
       "|---|\n",
       "| 1001 | 4644        | 1976        | 131         | 3           | 5           | Srodmiescie | \n",
       "\n",
       "\n"
      ],
      "text/plain": [
       "     m2.price construction.year surface floor no.rooms district   \n",
       "1001 4644     1976              131     3     5        Srodmiescie"
      ]
     },
     "metadata": {},
     "output_type": "display_data"
    }
   ],
   "source": [
    "library(\"DALEX\")\n",
    "library(\"ceterisParibus\")\n",
    "library(\"randomForest\")\n",
    "set.seed(59)\n",
    "\n",
    "apartments_rf_model <- randomForest(m2.price ~ construction.year + surface + floor + no.rooms + district, data = apartments)\n",
    "\n",
    "explainer_rf <- explain(apartments_rf_model,\n",
    "      data = apartmentsTest[,2:6], y = apartmentsTest$m2.price)\n",
    "\n",
    "new_apartment <- apartmentsTest[1, ]\n",
    "new_apartment"
   ]
  },
  {
   "cell_type": "code",
   "execution_count": 5,
   "metadata": {},
   "outputs": [
    {
     "ename": "ERROR",
     "evalue": "Error in what_if_2d(explainer_rf, observation = new_apartment): could not find function \"what_if_2d\"\n",
     "output_type": "error",
     "traceback": [
      "Error in what_if_2d(explainer_rf, observation = new_apartment): could not find function \"what_if_2d\"\nTraceback:\n"
     ]
    }
   ],
   "source": [
    "wi_rf_2d <- what_if_2d(explainer_rf, observation = new_apartment)\n",
    "wi_rf_2d"
   ]
  },
  {
   "cell_type": "code",
   "execution_count": null,
   "metadata": {},
   "outputs": [],
   "source": []
  }
 ],
 "metadata": {
  "kernelspec": {
   "display_name": "R",
   "language": "R",
   "name": "ir"
  },
  "language_info": {
   "codemirror_mode": "r",
   "file_extension": ".r",
   "mimetype": "text/x-r-source",
   "name": "R",
   "pygments_lexer": "r",
   "version": "3.4.4"
  }
 },
 "nbformat": 4,
 "nbformat_minor": 2
}
